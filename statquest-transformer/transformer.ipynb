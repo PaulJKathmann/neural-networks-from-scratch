{
 "cells": [
  {
   "cell_type": "code",
   "execution_count": null,
   "metadata": {},
   "outputs": [],
   "source": [
    "# Import modules\n",
    "import torch\n",
    "import torch.nn as nn\n",
    "import torch.nn.functional as F\n",
    "from torch.optim import Adam\n",
    "from torch.utils.data import DataLoader, TensorDataset\n",
    "\n",
    "import lightning as L"
   ]
  },
  {
   "cell_type": "code",
   "execution_count": null,
   "metadata": {},
   "outputs": [],
   "source": [
    "# Define a simple dictionary mapping words to integers\n",
    "token_to_id = {'what' : 0,\n",
    "               'is' : 1,\n",
    "               'statquest' : 2,\n",
    "               'awesome': 3,\n",
    "               '<EOS>' : 4, ## <EOS> = end of sequence\n",
    "              }\n",
    "# Define a simple dictionary mapping integers to words to decode the model's output\n",
    "id_to_token = dict(map(reversed, token_to_id.items()))\n",
    "\n",
    "# Define the inputs and labels.\n",
    "inputs = torch.tensor([[token_to_id[\"what\"], ## input #1: what is statquest <EOS> awesome\n",
    "                        token_to_id[\"is\"], \n",
    "                        token_to_id[\"statquest\"], \n",
    "                        token_to_id[\"<EOS>\"],\n",
    "                        token_to_id[\"awesome\"]], \n",
    "                       \n",
    "                       [token_to_id[\"statquest\"], # input #2: statquest is what <EOS> awesome\n",
    "                        token_to_id[\"is\"], \n",
    "                        token_to_id[\"what\"], \n",
    "                        token_to_id[\"<EOS>\"], \n",
    "                        token_to_id[\"awesome\"]]])\n",
    "\n",
    "labels = torch.tensor([[token_to_id[\"is\"], \n",
    "                        token_to_id[\"statquest\"], \n",
    "                        token_to_id[\"<EOS>\"], \n",
    "                        token_to_id[\"awesome\"], \n",
    "                        token_to_id[\"<EOS>\"]],  \n",
    "                       \n",
    "                       [token_to_id[\"is\"], \n",
    "                        token_to_id[\"what\"], \n",
    "                        token_to_id[\"<EOS>\"], \n",
    "                        token_to_id[\"awesome\"], \n",
    "                        token_to_id[\"<EOS>\"]]])\n",
    "\n",
    "dataset = TensorDataset(inputs, labels) \n",
    "dataloader = DataLoader(dataset)"
   ]
  },
  {
   "cell_type": "code",
   "execution_count": null,
   "metadata": {},
   "outputs": [],
   "source": [
    "# First let's do the positional encoding\n",
    "class PositionEncoding(nn.Module):\n",
    "    def __init__(self, d_model=2, max_len=6):\n",
    "        super().__init__()\n",
    "        pe = torch.zeros(max_len, d_model)\n",
    "        position = torch.arange(start=0, end=max_len, step=1).float().unsqueeze(1)\n",
    "        embedding_index = torch.arange(start=0, end=d_model, step=2).float()\n",
    "\n",
    "        div_term = 1/torch.tensor(10000.0)**(embedding_index / d_model)\n",
    "\n",
    "        pe[:, 0::2] = torch.sin(position * div_term)\n",
    "        pe[:, 1::2] = torch.cos(position * div_term)\n",
    "\n",
    "        self.register_buffer('pe', pe)\n",
    "\n",
    "    def forward(self, word_embeddings):\n",
    "        return word_embeddings + self.pe[:word_embeddings.size(0), :]"
   ]
  },
  {
   "cell_type": "code",
   "execution_count": null,
   "metadata": {},
   "outputs": [],
   "source": [
    "# Then we need to build the self-attention class to create  queries, keys and values"
   ]
  }
 ],
 "metadata": {
  "language_info": {
   "name": "python"
  }
 },
 "nbformat": 4,
 "nbformat_minor": 2
}
